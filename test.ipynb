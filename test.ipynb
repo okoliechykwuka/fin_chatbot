{
 "cells": [
  {
   "cell_type": "code",
   "execution_count": 1,
   "metadata": {},
   "outputs": [],
   "source": [
    "import threading\n",
    "import subprocess\n",
    "\n",
    "def run_streamlit():\n",
    "    subprocess.run([\"streamlit\", \"run\", \"app.py\"])\n",
    "\n",
    "streamlit_thread = threading.Thread(target=run_streamlit)\n",
    "streamlit_thread.start()"
   ]
  },
  {
   "cell_type": "markdown",
   "metadata": {},
   "source": [
    "## STEPS TO TEST THE APP\n",
    "\n",
    "1. add you api-key in line 31 of app.py file\n",
    "\n",
    "2. To test via cmd run `streamlit run app.py` and to test via notebook, open test.ipynb and run the `test.ipynb` file\n",
    "\n",
    "\n",
    "3. For PDF and Word Files\n",
    "\n",
    "  - upload any pdf file and conversate with it in a conversational manner\n",
    "  - e.g question. What is this document all about?\n",
    "  - what is my last question?\n",
    "\n",
    "\n",
    "4. For EXCEL and CSV Files.\n",
    "\n",
    "  - upload the portofolio dataset- The dataset is in the finance_chatbot_with_plots directory.\n",
    "  - questions to ask\n",
    "       - plot a bar chart of the asset vs purchase price with hue as the portfolio type\n",
    "       - create a pie chart showing the distribution of loan status\n",
    "       - what was my last question\n",
    "       - what was your last answer\n",
    "\n"
   ]
  },
  {
   "cell_type": "markdown",
   "metadata": {},
   "source": []
  }
 ],
 "metadata": {
  "kernelspec": {
   "display_name": "Python 3 (ipykernel)",
   "language": "python",
   "name": "python3"
  },
  "language_info": {
   "codemirror_mode": {
    "name": "ipython",
    "version": 3
   },
   "file_extension": ".py",
   "mimetype": "text/x-python",
   "name": "python",
   "nbconvert_exporter": "python",
   "pygments_lexer": "ipython3",
   "version": "3.10.13"
  }
 },
 "nbformat": 4,
 "nbformat_minor": 4
}
